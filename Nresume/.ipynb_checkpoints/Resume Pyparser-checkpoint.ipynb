{
 "cells": [
  {
   "cell_type": "code",
   "execution_count": 1,
   "metadata": {},
   "outputs": [],
   "source": [
    "from PyPDF2 import PdfFileReader\n",
    "import os\n",
    "from os import listdir\n",
    "from os.path import isfile, join\n",
    "import re\n",
    "import nltk\n",
    "from pyresparser import ResumeParser"
   ]
  },
  {
   "cell_type": "code",
   "execution_count": 3,
   "metadata": {},
   "outputs": [],
   "source": [
    "resume_path = 'resume'\n",
    "resume_files = [os.path.join(resume_path, f) for f in os.listdir(resume_path) if os.path.isfile(os.path.join(resume_path, f))]"
   ]
  },
  {
   "cell_type": "code",
   "execution_count": 4,
   "metadata": {},
   "outputs": [],
   "source": [
    "resume_data = []\n",
    "for file in resume_files:\n",
    "    data = ResumeParser(file).get_extracted_data()\n",
    "    resume_data.append(data)"
   ]
  },
  {
   "cell_type": "code",
   "execution_count": 5,
   "metadata": {},
   "outputs": [
    {
     "name": "stdout",
     "output_type": "stream",
     "text": [
      "[{'name': 'ELECTRICAL ENGINEER', 'email': 'email@gmail.com', 'mobile_number': None, 'skills': ['Specifications', 'Python', 'Content', 'Technical', 'Matlab', 'Lighting', 'Visual', 'Supervisor', 'Reports', 'Engineering', 'Communication', 'Consulting', 'C++', 'Technical skills', 'Assembly', 'R', 'Cms', 'Budgeting', 'Documentation', 'Repairs', 'Electrical', 'C', 'Distribution', 'Operations', 'Design'], 'college_name': None, 'degree': ['B.S. ELECTRICAL', 'ELECTRICAL IMPROVER/SUPERVISOR  TQL Group, New Orleans'], 'designation': ['Electrical Engineer'], 'experience': None, 'company_names': None, 'no_of_pages': None, 'total_experience': 0}, {'name': 'RAM KUMAR', 'email': 'shri.babuji@shriresume.com', 'mobile_number': '0000000000', 'skills': ['Excel', 'English', 'Administration', 'Sales', 'Marketing', 'Word', 'Engineering'], 'college_name': None, 'degree': ['Bachelor, Technology \\nDeccan College of Engineering & Technology'], 'designation': ['Team Leader', 'Sales Assistant', 'Sales Manager', 'Marketing and Sales Professional'], 'experience': ['•', '•', 'April 2014 – Current', 'Sales Manager', 'Solvent Solutions Pvt Ltd', 'Kolkata, West Bangal', 'October 2011 – March 2014', 'Team Leader', 'Serena Global Pvt Ltd', 'Gurgaon, Delhi-NCR', 'August 2009 – October 2011', 'Sales Assistant', 'Tamcoj Technologies', 'Pimpri-Pune, Maharashtra', 'Lorem ipsum dolor sit amet, consectetuer adipiscing elit. Aenean commodo ligula eget dolor. Aenean massa. Cum', 'sociis natoque penatibus et magnis dis parturient montes, nascetur ridiculus mus. Donec quam felis, ultricies Lorem', 'ipsum dolor sit amet, consectetuer adipiscing elit. Aenean commodo ligula eget dolor. Aenean massa. Cum sociis', 'natoque penatibus et magnis dis parturient montes, nascetur ridiculus mus.', '•', '•', '•', '•', 'Lorem ipsum dolor sit amet, consectetuer adipiscing elit lorem ipsum dolor sit.', 'Lorem ipsum dolor sit amet, consectetuer adipiscing elit lorem ipsum dolor sit.', 'Lorem ipsum dolor sit amet, consectetuer adipiscing elit lorem ipsum dolor sit.', 'Lorem ipsum dolor sit amet, consectetuer adipiscing elit lorem ipsum dolor sit.', 'Lorem ipsum dolor sit amet, consectetuer adipiscing elit. Aenean commodo ligula eget dolor. Aenean massa. Cum', 'sociis natoque penatibus et magnis dis parturient montes, nascetur ridiculus mus. Donec quam felis, ultricies Lorem', 'ipsum dolor sit amet, consectetuer adipiscing elit. Aenean commodo ligula eget dolor. Aenean massa. Cum sociis', 'natoque penatibus et magnis dis parturient montes, nascetur ridiculus mus.', '•', '•', '•', '•', 'Lorem ipsum dolor sit amet, consectetuer adipiscing elit lorem ipsum dolor sit.', 'Lorem ipsum dolor sit amet, consectetuer adipiscing elit lorem ipsum dolor sit.', 'Lorem ipsum dolor sit amet, consectetuer adipiscing elit lorem ipsum dolor sit.', 'Lorem ipsum dolor sit amet, consectetuer adipiscing elit lorem ipsum dolor sit.', 'Lorem ipsum dolor sit amet, consectetuer adipiscing elit. Aenean commodo ligula eget dolor. Aenean massa. Cum', 'sociis natoque penatibus et magnis dis parturient montes, nascetur ridiculus mus. Donec quam felis, ultricies Lorem', 'ipsum dolor sit amet, consectetuer adipiscing elit. Aenean commodo ligula eget dolor. Aenean massa. Cum sociis', 'natoque penatibus et magnis dis parturient montes, nascetur ridiculus mus.', '•', '•', '•', 'Lorem ipsum dolor sit amet, consectetuer adipiscing elit lorem ipsum dolor sit.', 'Lorem ipsum dolor sit amet, consectetuer adipiscing elit lorem ipsum dolor sit.', 'Lorem ipsum dolor sit amet, consectetuer adipiscing elit lorem ipsum dolor sit.', 'Computer Proficiency', 'Languages', '•  Word 2010', '•  Excel 2010', '•  Power Point 2010', '•  Hindi', '•  English', 'Lorem ipsum dolor sit amet', 'Lorem ipsum dolor', 'Lorem ipsum dolor sit'], 'company_names': ['Serena Global Pvt Ltd', 'Solvent Solutions Pvt Ltd', 'Tamcoj Technologies', 'Pimpri'], 'no_of_pages': 3, 'total_experience': 4.58}]\n"
     ]
    }
   ],
   "source": [
    "print(resume_data)"
   ]
  },
  {
   "cell_type": "code",
   "execution_count": 6,
   "metadata": {},
   "outputs": [
    {
     "name": "stdout",
     "output_type": "stream",
     "text": [
      "Enter the number of resumes required : 4\n"
     ]
    }
   ],
   "source": [
    "no_resume_req = input(\"Enter the number of resumes required : \")"
   ]
  },
  {
   "cell_type": "code",
   "execution_count": 35,
   "metadata": {},
   "outputs": [
    {
     "name": "stdout",
     "output_type": "stream",
     "text": [
      "Enter Requirements : \n",
      "Python\n",
      "C\n",
      "C++\n",
      "Java\n",
      "quit\n"
     ]
    }
   ],
   "source": [
    "user_requirements = []\n",
    "requirement = None\n",
    "print('Enter Requirements : ')\n",
    "while requirement != 'quit':\n",
    "    requirement = input()\n",
    "    user_requirements.append(requirement)"
   ]
  },
  {
   "cell_type": "code",
   "execution_count": null,
   "metadata": {},
   "outputs": [],
   "source": [
    "def get_n_resume(n,req):\n",
    "    #"
   ]
  },
  {
   "cell_type": "code",
   "execution_count": null,
   "metadata": {},
   "outputs": [],
   "source": [
    "get_n_resume(no_resume_req,user_requirements)"
   ]
  },
  {
   "cell_type": "code",
   "execution_count": null,
   "metadata": {},
   "outputs": [],
   "source": []
  }
 ],
 "metadata": {
  "kernelspec": {
   "display_name": "Python 3",
   "language": "python",
   "name": "python3"
  },
  "language_info": {
   "codemirror_mode": {
    "name": "ipython",
    "version": 3
   },
   "file_extension": ".py",
   "mimetype": "text/x-python",
   "name": "python",
   "nbconvert_exporter": "python",
   "pygments_lexer": "ipython3",
   "version": "3.7.6"
  }
 },
 "nbformat": 4,
 "nbformat_minor": 2
}
