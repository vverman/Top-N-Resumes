{
 "cells": [
  {
   "cell_type": "markdown",
   "metadata": {},
   "source": [
    "# NResumes"
   ]
  },
  {
   "cell_type": "markdown",
   "metadata": {},
   "source": [
    "### Restrictions\n",
    "The subheadings need to contain just the text without any embellishments  \n",
    "The date needs to be in the format January/Feb 2019- February/Feb 2020"
   ]
  },
  {
   "cell_type": "code",
   "execution_count": 92,
   "metadata": {},
   "outputs": [],
   "source": [
    "from PyPDF2 import PdfFileReader\n",
    "import os\n",
    "from os import listdir\n",
    "from os.path import isfile, join\n",
    "import re\n",
    "import nltk\n",
    "from pyresparser import ResumeParser\n",
    "import pandas as pd\n",
    "import operator\n",
    "import shutil"
   ]
  },
  {
   "cell_type": "markdown",
   "metadata": {},
   "source": [
    "## The paths for the Resume and CSV files"
   ]
  },
  {
   "cell_type": "code",
   "execution_count": 93,
   "metadata": {},
   "outputs": [],
   "source": [
    "resume_path = 'resume' # Should be decided by the front end\n",
    "profile_path = \"csv\""
   ]
  },
  {
   "cell_type": "code",
   "execution_count": 94,
   "metadata": {},
   "outputs": [],
   "source": [
    "job_req = {'Data Science': {'Python':['scikitlearn','pandas','matplotlib'], 'Machine Learning':['Regression','ML','KNN'], 'Querying':['SQL','Hive','Pig'], 'Database':['SQL','MongoDB','Cassandra']},\n",
    "           \"Data Engineer\": {'Language':['Java','Scala','Python']},\n",
    "           \"Front-End\": {'Website':['HTML','CSS','JavaScript','JS'], 'Mobile':['React','React-Native','Flutter','Android','iOS']},\n",
    "           \"Back-End\": {'DBMS':['MySQL', 'MongoDB', 'Oracle', 'SQLServer', 'Redis'], 'Language':['Java', 'Python', 'Ruby', '.net']},\n",
    "           \"Software Engineer\": {'DBMS':['MySQL', 'MongoDB', 'Oracle', 'SQLServer', 'Redis'], 'Language':['Java', 'Python', 'Ruby', '.net']}\n",
    "          }"
   ]
  },
  {
   "cell_type": "markdown",
   "metadata": {},
   "source": [
    "## Reading in CSV data into a DataFrame  (Try to autocreate the file directory for each job)"
   ]
  },
  {
   "cell_type": "code",
   "execution_count": 95,
   "metadata": {},
   "outputs": [
    {
     "data": {
      "text/plain": [
       "['business_analyst',\n",
       " 'cloud_architect',\n",
       " 'data_scientist',\n",
       " 'full_stack_dev',\n",
       " 'testing']"
      ]
     },
     "execution_count": 95,
     "metadata": {},
     "output_type": "execute_result"
    }
   ],
   "source": [
    "profile_data = {} # a dictionary to store all the dataframes\n",
    "\n",
    "#get a list consisting of the paths of all the csv files \n",
    "profile_files = [os.path.join(profile_path, f) for f in os.listdir(profile_path) if os.path.isfile(os.path.join(profile_path, f))]\n",
    "\n",
    "for file in profile_files:\n",
    "    keyname = os.path.basename(file)[:-len('.csv')]  #this is just to obtain every file name sans the extension  \n",
    "    #print(keyname)\n",
    "    x = pd.read_csv(file)\n",
    "    profile_data[keyname] = x.apply(lambda x:x.astype(str).str.lower()) \n",
    "\n",
    "profiles_list = list(profile_data.keys()) #Just storing the profile in list format\n",
    "\n",
    "\n",
    "#type(profile_data['data_scientist'].columns[0])\n",
    "\n",
    "profiles_list   \n",
    "#profile_data['data_scientist']# printing a sample one for data scientist\n",
    "#profile_data['full_stack_dev']# printing a sample one for data scientist\n",
    "#profile_data['cloud_architect']# printing a sample one for data scientist"
   ]
  },
  {
   "cell_type": "markdown",
   "metadata": {},
   "source": [
    "## Classifying resumes on job description and storing them in their respective folders\n",
    "We have a dataframe that has the skills for each job, we shall iterate through the folder containing all resumes, for each resume calculate the skills (add +1 for each mention of the skill) and store it in the job folder that has the max score. This is so that we can display his proficiency in not only all the skills mentioned but also other skills that the job entails"
   ]
  },
  {
   "cell_type": "markdown",
   "metadata": {},
   "source": [
    "### Since we are parsing through the requirements anyways, create a list of dictionary of scores each of the skills in each job and then assign the most proficient job's dictionary to the final list of dictionary."
   ]
  },
  {
   "cell_type": "code",
   "execution_count": 155,
   "metadata": {},
   "outputs": [
    {
     "name": "stdout",
     "output_type": "stream",
     "text": [
      "{'name': 'JOSHI OBJECTIVE', 'email': 'vgjoshi2297@gmail.com', 'mobile_number': '9175300022', 'skills': ['Hardware', 'Matlab', 'Communication', 'R', 'Instrumentation', 'Training', 'Research', 'Twitter', 'Electrical', 'Electronics'], 'college_name': None, 'degree': ['B. Tech in Electronics and Instrumentation'], 'designation': None, 'experience': ['\\uf0b7  Currently working on a research project', 'involving visible light communication and', 'li-fi.', 'ACOMPLISHMENTS', '\\uf0b7  Achieved scholarship in VIT University:  25% scholarship in VITEEE Exam.', '\\uf0b7  Certified in Labview training. Link to the certificate:', 'https://drive.google.com/file/d/1yw-', 'Q936UJFQkYaB2PQOY7le2JhYyQ0nu/view?usp=sharing'], 'company_names': None, 'no_of_pages': 1, 'total_experience': 0.0}\n",
      " \n",
      "{'name': 'ADITYA CAMARUSHY', 'email': 'aditcam@gmail.com', 'mobile_number': '8971198767', 'skills': ['Testing', 'Big data', 'Octave', 'Css', 'Javascript', 'Health', 'Software engineering', 'Operating systems', 'Technical', 'Programming', 'Java', 'Linux', 'Sql', 'Matlab', 'Parser', 'Analytics', 'Mobile', 'Analysis', 'Windows', 'Engineering', 'Python', 'Billing', 'Photography', 'C', 'Html', 'Data analytics', 'Email'], 'college_name': None, 'degree': ['B.Tech'], 'designation': None, 'experience': None, 'company_names': None, 'no_of_pages': 2, 'total_experience': 0}\n",
      " \n",
      "{'name': 'Anushree Srivastava', 'email': 'Anushree.srivastava@ifimbschool.com', 'mobile_number': '6940381', 'skills': ['R', 'Research', 'Java', 'Website', 'Ms project', 'Plan', 'Presentation', 'Analysis', 'Ecommerce', 'Communication', 'English', 'Segmentation', 'System', 'Psychology', 'Analytical', 'Hotel', 'C', 'Data analysis', 'Marketing', 'Brand', 'Strategy'], 'college_name': None, 'degree': None, 'designation': None, 'experience': [], 'company_names': None, 'no_of_pages': 2, 'total_experience': 0.0}\n",
      " \n",
      "{'name': 'DEVASHISH NEGI (', 'email': 'devashishnegi25@gmail.com', 'mobile_number': '9897085979', 'skills': ['Technical', 'Programming', 'Sql', 'Engineering', 'Communication', 'Writing', 'Database', 'Content', 'Research', 'International', 'Cloud', 'Python', 'System', 'Training', 'Electronics'], 'college_name': None, 'degree': None, 'designation': None, 'experience': None, 'company_names': None, 'no_of_pages': None, 'total_experience': 0}\n",
      " \n",
      "[{'name': 'JOSHI OBJECTIVE', 'email': 'vgjoshi2297@gmail.com', 'mobile_number': '9175300022', 'skills': ['hardware', 'matlab', 'communication', 'r', 'instrumentation', 'training', 'research', 'twitter', 'electrical', 'electronics'], 'college_name': None, 'degree': ['B. Tech in Electronics and Instrumentation'], 'designation': None, 'experience': ['\\uf0b7  Currently working on a research project', 'involving visible light communication and', 'li-fi.', 'ACOMPLISHMENTS', '\\uf0b7  Achieved scholarship in VIT University:  25% scholarship in VITEEE Exam.', '\\uf0b7  Certified in Labview training. Link to the certificate:', 'https://drive.google.com/file/d/1yw-', 'Q936UJFQkYaB2PQOY7le2JhYyQ0nu/view?usp=sharing'], 'company_names': None, 'no_of_pages': 1, 'total_experience': 0.0, 'proficiency': 'full_stack_dev', 'job_skills_dict': {'Programming Languages': 2, 'Operating Systems': 0, 'Backend': 1, 'Technologies': 0, 'Web Frameworks': 0}}, {'name': 'ADITYA CAMARUSHY', 'email': 'aditcam@gmail.com', 'mobile_number': '8971198767', 'skills': ['testing', 'big data', 'octave', 'css', 'javascript', 'health', 'software engineering', 'operating systems', 'technical', 'programming', 'java', 'linux', 'sql', 'matlab', 'parser', 'analytics', 'mobile', 'analysis', 'windows', 'engineering', 'python', 'billing', 'photography', 'c', 'html', 'data analytics', 'email'], 'college_name': None, 'degree': ['B.Tech'], 'designation': None, 'experience': None, 'company_names': None, 'no_of_pages': 2, 'total_experience': 0, 'proficiency': 'full_stack_dev', 'job_skills_dict': {'Programming Languages': 2, 'Operating Systems': 0, 'Backend': 1, 'Technologies': 0, 'Web Frameworks': 0}}, {'name': 'Anushree Srivastava', 'email': 'Anushree.srivastava@ifimbschool.com', 'mobile_number': '6940381', 'skills': ['r', 'research', 'java', 'website', 'ms project', 'plan', 'presentation', 'analysis', 'ecommerce', 'communication', 'english', 'segmentation', 'system', 'psychology', 'analytical', 'hotel', 'c', 'data analysis', 'marketing', 'brand', 'strategy'], 'college_name': None, 'degree': None, 'designation': None, 'experience': [], 'company_names': None, 'no_of_pages': 2, 'total_experience': 0.0, 'proficiency': 'full_stack_dev', 'job_skills_dict': {'Programming Languages': 2, 'Operating Systems': 0, 'Backend': 1, 'Technologies': 0, 'Web Frameworks': 0}}, {'name': 'DEVASHISH NEGI (', 'email': 'devashishnegi25@gmail.com', 'mobile_number': '9897085979', 'skills': ['technical', 'programming', 'sql', 'engineering', 'communication', 'writing', 'database', 'content', 'research', 'international', 'cloud', 'python', 'system', 'training', 'electronics'], 'college_name': None, 'degree': None, 'designation': None, 'experience': None, 'company_names': None, 'no_of_pages': None, 'total_experience': 0, 'proficiency': 'full_stack_dev', 'job_skills_dict': {'Programming Languages': 2, 'Operating Systems': 0, 'Backend': 1, 'Technologies': 0, 'Web Frameworks': 0}}]\n"
     ]
    }
   ],
   "source": [
    "#for each file in resume_path, reading the resumes and extracting info\n",
    "\n",
    "skills_list = [{} for i in profiles_list]  # a dictionary of skills for representing the skills of employee in each job\n",
    "\n",
    "employee_data = [] #a list of dicts representing the employee's data along with his skill metric\n",
    "\n",
    "for f in os.listdir(resume_path):\n",
    "\n",
    "    if os.path.isfile(os.path.join(resume_path, f)):\n",
    "        \n",
    "        data = ResumeParser(os.path.join(resume_path, f)).get_extracted_data()\n",
    "        print(data)\n",
    "        print(\" \")\n",
    "    \n",
    "        proficiency = []\n",
    "        \n",
    "        #Iterating through all the job dataframes in profile_data and \n",
    "        #For each job, iterate through all skills \n",
    "        #If skills match skills from resume increment specific_skills by one\n",
    "        \n",
    "        skills_lower = [i.lower() for i in data['skills']] #convert all the skills to lowercase\n",
    "        \n",
    "        for job_no,tup in enumerate(profile_data.items()):\n",
    "            \n",
    "            jobs,jobs_df = tup \n",
    "            \n",
    "            talent_in_job=0  #a metric to measure skill in a job profile based on number of mentions in resume\n",
    "            \n",
    "            for skills_col in jobs_df.columns:\n",
    "                #print(jobs_df[skills_col].iloc[0])\n",
    "                #skills_col_lower=jobs_df[skills_col].str.lower()\n",
    "                #print(len(list(set(data_series).intersection(set(skills_col_lower)))))\n",
    "                \n",
    "                specific_skill_level = len(list(set(skills_lower).intersection(set(jobs_df[skills_col]))))\n",
    "                \n",
    "                skills_list[job_no][skills_col] = specific_skill_level\n",
    "                \n",
    "                talent_in_job+=specific_skill_level\n",
    "                \n",
    "            \n",
    "            proficiency.append(talent_in_job)\n",
    "            #proficiency_measure[jobs] = talent_in_job                \n",
    "        \n",
    "        #get the name of the job that has most matches and move the file to the job's folder\n",
    "        \n",
    "        most_proficient = proficiency.index(max(proficiency))\n",
    "\n",
    "        data['skills'] = skills_lower\n",
    "        data['proficiency'] = profiles_list[most_proficient]\n",
    "        data['job_skills_dict'] = skills_list[most_proficient]\n",
    "        \n",
    "        employee_data.append(data)\n",
    "        new_directory = os.path.join(resume_path,profiles_list[most_proficient],f)\n",
    "        old_directory = os.path.join(resume_path, f)\n",
    "        shutil.move(old_directory,new_directory)\n",
    "        \n",
    "print(employee_data)"
   ]
  },
  {
   "cell_type": "markdown",
   "metadata": {},
   "source": [
    "## Taking Input for skills, experience and how many resumes"
   ]
  },
  {
   "cell_type": "code",
   "execution_count": 156,
   "metadata": {},
   "outputs": [
    {
     "name": "stdout",
     "output_type": "stream",
     "text": [
      "1.) business_analyst\n",
      "2.) cloud_architect\n",
      "3.) data_scientist\n",
      "4.) full_stack_dev\n",
      "5.) testing\n"
     ]
    }
   ],
   "source": [
    "job_no=0\n",
    "for job_roles in profiles_list:\n",
    "    print(f'{job_no+1}.) {job_roles}')\n",
    "    job_no+=1"
   ]
  },
  {
   "cell_type": "code",
   "execution_count": 157,
   "metadata": {},
   "outputs": [
    {
     "name": "stdout",
     "output_type": "stream",
     "text": [
      "What's the desired no. of the job profile? 4\n",
      "What are the skills needed? (q to exit)html\n",
      "What are the skills needed? (q to exit)css\n",
      "What are the skills needed? (q to exit)q\n",
      "How many resumes would you like identified?2\n",
      "How many years of experience is the candidate supposed to have?1\n"
     ]
    }
   ],
   "source": [
    "user_requirements = []\n",
    "requirement = None\n",
    "\n",
    "    \n",
    "desired_job = int(input(\"What's the desired no. of the job profile? \"))-1\n",
    "\n",
    "while requirement != 'q':\n",
    "    requirement = input(\"What are the skills needed? (q to exit)\")\n",
    "    if requirement != 'q':\n",
    "        user_requirements.append(requirement.lower())\n",
    "    \n",
    "num_resumes = int(input(\"How many resumes would you like identified?\"))\n",
    "\n",
    "yrs_exp = int(input(\"How many years of experience is the candidate supposed to have?\"))"
   ]
  },
  {
   "cell_type": "markdown",
   "metadata": {},
   "source": [
    "### Creating a function that ranks people based on experience and skills"
   ]
  },
  {
   "cell_type": "code",
   "execution_count": 158,
   "metadata": {},
   "outputs": [
    {
     "name": "stdout",
     "output_type": "stream",
     "text": [
      "['html', 'css']\n"
     ]
    }
   ],
   "source": [
    "print(user_requirements)"
   ]
  },
  {
   "cell_type": "code",
   "execution_count": 162,
   "metadata": {},
   "outputs": [],
   "source": [
    "def ranker():\n",
    "    job = profiles_list[desired_job]\n",
    "    #print(job)\n",
    "    \n",
    "    x = [i for i in employee_data if i['proficiency']==job]\n",
    "    #print(x)\n",
    "    \n",
    "    for job_dicts in x:\n",
    "        #print(job_dicts['skills'])\n",
    "        exp = job_dicts['total_experience']\n",
    "        exp_score = 50*(exp/yrs_exp)\n",
    "        #print(set(user_requirements).intersection(set(job_dicts['skills'])))\n",
    "        req_met = len(list(set(user_requirements).intersection(set(job_dicts['skills']))))\n",
    "        req_score = 50*(req_met/len(user_requirements))\n",
    "        job_dicts['score'] = exp_score+req_score\n",
    "        \n",
    "    x = sorted(x,key=lambda i:i['score'],reverse=True)\n",
    "    \n",
    "    return(x)"
   ]
  },
  {
   "cell_type": "code",
   "execution_count": 163,
   "metadata": {},
   "outputs": [
    {
     "data": {
      "text/plain": [
       "[{'name': 'ADITYA CAMARUSHY',\n",
       "  'email': 'aditcam@gmail.com',\n",
       "  'mobile_number': '8971198767',\n",
       "  'skills': ['testing',\n",
       "   'big data',\n",
       "   'octave',\n",
       "   'css',\n",
       "   'javascript',\n",
       "   'health',\n",
       "   'software engineering',\n",
       "   'operating systems',\n",
       "   'technical',\n",
       "   'programming',\n",
       "   'java',\n",
       "   'linux',\n",
       "   'sql',\n",
       "   'matlab',\n",
       "   'parser',\n",
       "   'analytics',\n",
       "   'mobile',\n",
       "   'analysis',\n",
       "   'windows',\n",
       "   'engineering',\n",
       "   'python',\n",
       "   'billing',\n",
       "   'photography',\n",
       "   'c',\n",
       "   'html',\n",
       "   'data analytics',\n",
       "   'email'],\n",
       "  'college_name': None,\n",
       "  'degree': ['B.Tech'],\n",
       "  'designation': None,\n",
       "  'experience': None,\n",
       "  'company_names': None,\n",
       "  'no_of_pages': 2,\n",
       "  'total_experience': 0,\n",
       "  'proficiency': 'full_stack_dev',\n",
       "  'job_skills_dict': {'Programming Languages': 2,\n",
       "   'Operating Systems': 0,\n",
       "   'Backend': 1,\n",
       "   'Technologies': 0,\n",
       "   'Web Frameworks': 0},\n",
       "  'score': 50.0},\n",
       " {'name': 'JOSHI OBJECTIVE',\n",
       "  'email': 'vgjoshi2297@gmail.com',\n",
       "  'mobile_number': '9175300022',\n",
       "  'skills': ['hardware',\n",
       "   'matlab',\n",
       "   'communication',\n",
       "   'r',\n",
       "   'instrumentation',\n",
       "   'training',\n",
       "   'research',\n",
       "   'twitter',\n",
       "   'electrical',\n",
       "   'electronics'],\n",
       "  'college_name': None,\n",
       "  'degree': ['B. Tech in Electronics and Instrumentation'],\n",
       "  'designation': None,\n",
       "  'experience': ['\\uf0b7  Currently working on a research project',\n",
       "   'involving visible light communication and',\n",
       "   'li-fi.',\n",
       "   'ACOMPLISHMENTS',\n",
       "   '\\uf0b7  Achieved scholarship in VIT University:  25% scholarship in VITEEE Exam.',\n",
       "   '\\uf0b7  Certified in Labview training. Link to the certificate:',\n",
       "   'https://drive.google.com/file/d/1yw-',\n",
       "   'Q936UJFQkYaB2PQOY7le2JhYyQ0nu/view?usp=sharing'],\n",
       "  'company_names': None,\n",
       "  'no_of_pages': 1,\n",
       "  'total_experience': 0.0,\n",
       "  'proficiency': 'full_stack_dev',\n",
       "  'job_skills_dict': {'Programming Languages': 2,\n",
       "   'Operating Systems': 0,\n",
       "   'Backend': 1,\n",
       "   'Technologies': 0,\n",
       "   'Web Frameworks': 0},\n",
       "  'score': 0.0},\n",
       " {'name': 'Anushree Srivastava',\n",
       "  'email': 'Anushree.srivastava@ifimbschool.com',\n",
       "  'mobile_number': '6940381',\n",
       "  'skills': ['r',\n",
       "   'research',\n",
       "   'java',\n",
       "   'website',\n",
       "   'ms project',\n",
       "   'plan',\n",
       "   'presentation',\n",
       "   'analysis',\n",
       "   'ecommerce',\n",
       "   'communication',\n",
       "   'english',\n",
       "   'segmentation',\n",
       "   'system',\n",
       "   'psychology',\n",
       "   'analytical',\n",
       "   'hotel',\n",
       "   'c',\n",
       "   'data analysis',\n",
       "   'marketing',\n",
       "   'brand',\n",
       "   'strategy'],\n",
       "  'college_name': None,\n",
       "  'degree': None,\n",
       "  'designation': None,\n",
       "  'experience': [],\n",
       "  'company_names': None,\n",
       "  'no_of_pages': 2,\n",
       "  'total_experience': 0.0,\n",
       "  'proficiency': 'full_stack_dev',\n",
       "  'job_skills_dict': {'Programming Languages': 2,\n",
       "   'Operating Systems': 0,\n",
       "   'Backend': 1,\n",
       "   'Technologies': 0,\n",
       "   'Web Frameworks': 0},\n",
       "  'score': 0.0},\n",
       " {'name': 'DEVASHISH NEGI (',\n",
       "  'email': 'devashishnegi25@gmail.com',\n",
       "  'mobile_number': '9897085979',\n",
       "  'skills': ['technical',\n",
       "   'programming',\n",
       "   'sql',\n",
       "   'engineering',\n",
       "   'communication',\n",
       "   'writing',\n",
       "   'database',\n",
       "   'content',\n",
       "   'research',\n",
       "   'international',\n",
       "   'cloud',\n",
       "   'python',\n",
       "   'system',\n",
       "   'training',\n",
       "   'electronics'],\n",
       "  'college_name': None,\n",
       "  'degree': None,\n",
       "  'designation': None,\n",
       "  'experience': None,\n",
       "  'company_names': None,\n",
       "  'no_of_pages': None,\n",
       "  'total_experience': 0,\n",
       "  'proficiency': 'full_stack_dev',\n",
       "  'job_skills_dict': {'Programming Languages': 2,\n",
       "   'Operating Systems': 0,\n",
       "   'Backend': 1,\n",
       "   'Technologies': 0,\n",
       "   'Web Frameworks': 0},\n",
       "  'score': 0.0}]"
      ]
     },
     "execution_count": 163,
     "metadata": {},
     "output_type": "execute_result"
    }
   ],
   "source": [
    "ranker()"
   ]
  },
  {
   "cell_type": "code",
   "execution_count": null,
   "metadata": {},
   "outputs": [],
   "source": []
  },
  {
   "cell_type": "code",
   "execution_count": null,
   "metadata": {},
   "outputs": [],
   "source": []
  }
 ],
 "metadata": {
  "kernelspec": {
   "display_name": "Python 3",
   "language": "python",
   "name": "python3"
  },
  "language_info": {
   "codemirror_mode": {
    "name": "ipython",
    "version": 3
   },
   "file_extension": ".py",
   "mimetype": "text/x-python",
   "name": "python",
   "nbconvert_exporter": "python",
   "pygments_lexer": "ipython3",
   "version": "3.7.6"
  }
 },
 "nbformat": 4,
 "nbformat_minor": 4
}
