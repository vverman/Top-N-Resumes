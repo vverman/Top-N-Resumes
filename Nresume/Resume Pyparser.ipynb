{
 "cells": [
  {
   "cell_type": "code",
   "execution_count": 7,
   "metadata": {},
   "outputs": [],
   "source": [
    "from PyPDF2 import PdfFileReader\n",
    "import os\n",
    "from os import listdir\n",
    "from os.path import isfile, join\n",
    "import re\n",
    "import nltk\n",
    "from pyresparser import ResumeParser"
   ]
  },
  {
   "cell_type": "code",
   "execution_count": 8,
   "metadata": {},
   "outputs": [],
   "source": [
    "resume_path = 'resume\\enqres'\n",
    "resume_files = [os.path.join(resume_path, f) for f in os.listdir(resume_path) if os.path.isfile(os.path.join(resume_path, f))]"
   ]
  },
  {
   "cell_type": "code",
   "execution_count": 10,
   "metadata": {},
   "outputs": [
    {
     "name": "stdout",
     "output_type": "stream",
     "text": [
      "{'name': None, 'email': None, 'mobile_number': None, 'skills': [], 'college_name': None, 'degree': None, 'designation': None, 'experience': None, 'company_names': None, 'no_of_pages': None, 'total_experience': 0}\n",
      "{'name': 'Shruti Singhai', 'email': 'shrutisinghai986@gmail.com', 'mobile_number': '9629192571', 'skills': ['Python', 'Healthcare', 'Photography', 'Health', 'Programming', 'Php', 'Analytical', 'Javascript', 'Analysis', 'German', 'Startup', 'Website', 'Css', 'C++', 'Editing', 'Java', 'Html', 'Mobile', 'Sql', 'Anaconda', 'English', 'C', 'Video', 'Algorithms', 'Security'], 'college_name': None, 'degree': None, 'designation': None, 'experience': ['Part time Intern', 'Helto Incorporations', '01/2019 – 03/2019', 'Helto is an upcoming healthcare based startup which aims at', 'developing a real-time health monitoring platform using ML and Data', 'analysis.', 'Vellore', 'Achievements/Tasks', 'Back-end Development for oﬃcial Website and Mobile', 'app.', 'Contact: Vidhan Soni – heltoincorporations@gmail.com', 'LANGUAGES', 'German', 'Limited Working Proﬁciency'], 'company_names': None, 'no_of_pages': 1, 'total_experience': 0.0}\n",
      "{'name': '‰ Patna', 'email': 'adway.ujjwal2016@vitstudent.ac.in', 'mobile_number': '8056643263', 'skills': ['Python', 'Mouse', 'Arrow', 'Flask', 'Sdlc', 'Opencv', 'Php', 'Javascript', 'Interactive', 'Machine learning', 'Engineering', 'Communication', 'Css', 'Analytics', 'Hotel', 'C++', 'Keras', 'R', 'Photoshop', 'System', 'Java', 'Html', 'Sql', 'Queries', 'Process', 'Data analytics', 'C', 'Video', 'Api', 'Ui', 'Android'], 'college_name': None, 'degree': None, 'designation': None, 'experience': ['Android Developer', 'Gotisheel Technologies ( EzroadTrips)', '(cid:17) May 2019 – Present', '‰ Bengaluru,India', '• Developed a Road Trip Blogger App named Ezroadtrips, de-', 'signed the UI of the App using Android Studio.', '• Worked with the team and designed a Cab Seat Booking Sys-', 'tem using Firebase.', 'Vocational Trainee', 'BSNL India', '(cid:17) May 2018 – June 2018', '‰ Patna,India', '• Learnt how communication is done using Optical Fibers and its', 'beneﬁts.', '• Learnt how Internet Data is sent to different parts of the city.', 'ACHIEVEMENTS', '• Won 4th Position at Appathon conducted By Apple Developers', 'Group, Vit', '• Placed in top 10 in Honeywell Hackathon.', '• Bagged 8th Position out of 50 teams in Tenhnoxian Robo wars', '• Went To National Level in 21st National Children Science', 'Congress'], 'company_names': ['Apple Developers'], 'no_of_pages': 1, 'total_experience': 0.0}\n",
      "{'name': 'Communication Engineering', 'email': 's.sarvani1998@gmail.com', 'mobile_number': '9176473886', 'skills': ['Social media', 'Python', 'Content', 'Spanish', 'Email', 'Engagement', 'Matlab', 'International', 'Modeling', 'Microsoft excel', 'Analytical', 'Robot', 'Electronics', 'Excel', 'Javascript', 'Machine learning', 'Finance', 'Statistics', 'Engineering', 'Communication', 'Analytics', 'Twitter', 'C++', 'R', 'System', 'Scripting', 'Java', 'Cloud', 'Mobile', 'Acquisition', 'Data analytics', 'C', 'Budget', 'Facebook'], 'college_name': None, 'degree': ['Degree anticipated in May 2020', 'Bachelor of Technology, ECE (2016 -2020)'], 'designation': None, 'experience': ['Data Acquisition Intern                                 ISRO SDSC SHAR, June 2019', '\\uf0a7  Analyzed  and  compiled  data  gathered  from  various  sensors  for  different  parameters', '(temperature, pressure, humidity, acoustic levels)', '\\uf0a7  Worked with PIC microcontroller and software like Origin and LABView', '\\uf0a7  Real time data from static motors was acquired and tested for results.', 'IOT Intern                                                      Signals & Systems, June 2018- July 2018', '\\uf0a7  Worked on Python and Embedded C scripting'], 'company_names': None, 'no_of_pages': 2, 'total_experience': 0.08}\n",
      "{'name': 'Tanmay Kumar', 'email': 'tnmsahoo151@gmail.com', 'mobile_number': '7550137121', 'skills': ['Electronics', 'Electrical', 'System', 'Java', 'Technical', 'Email', 'Coding', 'Matlab', 'Strategy', 'Distribution', 'Engineering', 'Business strategy', 'Automation', 'Design', 'Programming', 'Training', 'Robot', 'Assembly'], 'college_name': None, 'degree': ['Bachelor of Technology, Electrical & Electronics Engineering'], 'designation': ['Coordinator Volunteer'], 'experience': ['Academic support Volunteer in MAD (Make A Difference) NGO', 'Assisting out two of the students from the pastor home in their academic field', 'Guiding them through their board exams', 'Volunteer, Blood Donation Camp', 'Actively participated in blood donation camp organised by Youth Red cross', 'Actively participated in blood donation camp organized by CMC, Vellore', 'Jun-Jul’19', 'Jan-Apr’19', 'Mar-Apr’19', 'Jun-July’19', 'July-Aug’19', 'July-Aug’19', '2017-18', '2018', '2018-19', '2018-19', '2018-19', 'Aug’18', 'Apr’18', 'Interests:', '•  Reading Mythological Novels', '•  Boxing', '•  Cooking', '•  Swimming'], 'company_names': None, 'no_of_pages': 2, 'total_experience': 0.0}\n",
      "{'name': 'JOSHI OBJECTIVE', 'email': 'vgjoshi2297@gmail.com', 'mobile_number': '9175300022', 'skills': ['Electronics', 'Electrical', 'Hardware', 'Matlab', 'Communication', 'Instrumentation', 'Twitter', 'Training', 'Research', 'R'], 'college_name': None, 'degree': ['B. Tech in Electronics and Instrumentation'], 'designation': None, 'experience': ['\\uf0b7  Currently working on a research project', 'involving visible light communication and', 'li-fi.', 'ACOMPLISHMENTS', '\\uf0b7  Achieved scholarship in VIT University:  25% scholarship in VITEEE Exam.', '\\uf0b7  Certified in Labview training. Link to the certificate:', 'https://drive.google.com/file/d/1yw-', 'Q936UJFQkYaB2PQOY7le2JhYyQ0nu/view?usp=sharing'], 'company_names': None, 'no_of_pages': 1, 'total_experience': 0.0}\n",
      "{'name': 'JAGRUTH S', 'email': 'Jagruths.ec16@rvce.edu.in', 'mobile_number': '8971015155', 'skills': ['Electronics', 'Electrical', 'C', 'Python', 'English', 'P', 'Access', 'Cisco', 'Matlab', 'Engineering', 'International', 'Communication', 'Sql', 'Process', 'C++', 'R'], 'college_name': None, 'degree': ['Bachelors   \\nElectronics and Communication \\nEngineering   \\nR V College of Engineering'], 'designation': None, 'experience': None, 'company_names': ['Cisco'], 'no_of_pages': 2, 'total_experience': 0}\n",
      "{'name': 'ADITYA CAMARUSHY', 'email': 'aditcam@gmail.com', 'mobile_number': '8971198767', 'skills': ['Python', 'Technical', 'Operating systems', 'Email', 'Matlab', 'Photography', 'Testing', 'Health', 'Programming', 'Javascript', 'Windows', 'Parser', 'Analysis', 'Engineering', 'Css', 'Analytics', 'Octave', 'Software engineering', 'Billing', 'Java', 'Html', 'Mobile', 'Sql', 'Linux', 'Data analytics', 'C', 'Big data'], 'college_name': None, 'degree': ['B.Tech'], 'designation': None, 'experience': None, 'company_names': None, 'no_of_pages': 2, 'total_experience': 0}\n",
      "{'name': 'Aman Pant', 'email': 'amanvijaypant@gmail.com', 'mobile_number': '7983910108', 'skills': ['Python', 'Tkinter', 'System', 'Video', 'Technical', 'Sci', 'Aws', 'Numpy', 'Cloud', 'Analysis', 'Tensorflow', 'Pandas', 'Matplotlib', 'Programming', 'Keras'], 'college_name': None, 'degree': None, 'designation': None, 'experience': None, 'company_names': None, 'no_of_pages': 1, 'total_experience': 0}\n",
      "{'name': 'Anushree Srivastava', 'email': 'Anushree.srivastava@ifimbschool.com', 'mobile_number': '6940381', 'skills': ['Analytical', 'Presentation', 'Brand', 'Analysis', 'Marketing', 'Website', 'Communication', 'Hotel', 'Research', 'R', 'Data analysis', 'Segmentation', 'System', 'Plan', 'Java', 'Psychology', 'English', 'C', 'Strategy', 'Ecommerce', 'Ms project'], 'college_name': None, 'degree': None, 'designation': None, 'experience': [], 'company_names': None, 'no_of_pages': 2, 'total_experience': 0.0}\n",
      "{'name': 'ARNAB GHOSH', 'email': 'arnab.ghosh@ifimbschool.com,', 'mobile_number': '8861874050', 'skills': ['Electronics', 'Quality control', 'English', 'Python', 'Analytical', 'Machine learning', 'Analysis', 'Sales', 'Marketing', 'Operations', 'Communication', 'Testing', 'Analytics', 'Process', 'Tableau', 'Research'], 'college_name': None, 'degree': None, 'designation': None, 'experience': ['Work Experience:', 'L&T Technology Services – Software Engineer - 2 years', 'Job responsibilities:', '•  Verification activities such as Code Review and low-level requirements-based testing in aerospace domain.', '•  Creating checklist according to software standards for quality control of project.', '•  Assisted team members in analyzing requirements, change request and provide estimation.', '•', 'Inculcated good time management skill, tolerance of stress and responsibility.'], 'company_names': None, 'no_of_pages': 2, 'total_experience': 0.0}\n"
     ]
    },
    {
     "name": "stdout",
     "output_type": "stream",
     "text": [
      "{'name': None, 'email': None, 'mobile_number': None, 'skills': [], 'college_name': None, 'degree': None, 'designation': None, 'experience': None, 'company_names': None, 'no_of_pages': 1, 'total_experience': 0}\n",
      "{'name': 'BASAVARAJ KATAGERI', 'email': 'basavraj.katageri@ifimbschool.com', 'mobile_number': '6687251', 'skills': ['Visual', 'Advertising', 'Electrical', 'English', 'Analyze', 'Presentation', 'Plan', 'Brand', 'Strategy', 'Writing', 'Marketing', 'Cement', 'Certification', 'Communication', 'Health', 'Instrumentation', 'Analytical', 'Research'], 'college_name': None, 'degree': None, 'designation': None, 'experience': [], 'company_names': None, 'no_of_pages': 1, 'total_experience': 0.0}\n",
      "{'name': 'DEVASHISH NEGI (', 'email': 'devashishnegi25@gmail.com', 'mobile_number': '9897085979', 'skills': ['Electronics', 'Python', 'System', 'Content', 'Database', 'Technical', 'Sql', 'Cloud', 'Writing', 'Engineering', 'Communication', 'International', 'Programming', 'Training', 'Research'], 'college_name': None, 'degree': None, 'designation': None, 'experience': None, 'company_names': None, 'no_of_pages': None, 'total_experience': 0}\n",
      "{'name': 'LANKE HEMANTH KUMAR', 'email': 'lankehemanth@gmail.com', 'mobile_number': '9642290598', 'skills': ['Computer science', 'Technical', 'Email', 'Programming', 'Outreach', 'Presentation', 'Engineering', 'Communication', 'C++', 'Technical skills', 'System', 'Database', 'Java', 'Sap', 'C', 'Lan', 'Coding', 'Security', 'Android'], 'college_name': None, 'degree': None, 'designation': None, 'experience': None, 'company_names': ['Rashtriya Ispat Nigam Limited'], 'no_of_pages': None, 'total_experience': 0}\n",
      "{'name': 'Himanshu Kholiya', 'email': 'himanshukholiya833@gmail.com', 'mobile_number': '7983595321', 'skills': ['Database', 'Technical', 'Java', 'Adobe', 'Api', 'Website', 'Hadoop', 'Oracle', 'Programming', 'Aws'], 'college_name': None, 'degree': None, 'designation': None, 'experience': None, 'company_names': None, 'no_of_pages': 1, 'total_experience': 0}\n",
      "{'name': 'KAVITA KAITHWAS', 'email': None, 'mobile_number': '020 2015', 'skills': ['Python', 'Email', 'Matlab', 'Pandas', 'Programming', 'Scipy', 'Excel', 'Machine learning', 'Tensorflow', 'Engineering', 'Calculus', 'Analytics', 'Keras', 'R', 'Plan', 'Sports', 'Matplotlib', 'Process', 'Economics', 'Numpy', 'Api', 'Training'], 'college_name': None, 'degree': None, 'designation': None, 'experience': None, 'company_names': None, 'no_of_pages': 1, 'total_experience': 0}\n",
      "{'name': 'KAILASH CHANDRA OLI Email', 'email': 'kailashnainital1994@gmail.com', 'mobile_number': '7983606935', 'skills': ['C', 'Java', 'Email', 'Statistics', 'Mobile', 'Training'], 'college_name': None, 'degree': None, 'designation': None, 'experience': None, 'company_names': None, 'no_of_pages': None, 'total_experience': 0}\n",
      "{'name': 'Lalit Bajaj', 'email': 'lalitbajaj88@gmail.com', 'mobile_number': '7259991290', 'skills': ['Python', 'Technical', 'Matlab', 'International', 'Programming', 'Javascript', 'Finance', 'Engineering', 'Css', 'Communication', 'C++', 'Photoshop', 'System', 'Html', 'Sports', 'Process', 'English', 'C', 'Algorithms', 'Illustrator'], 'college_name': None, 'degree': None, 'designation': None, 'experience': ['Process parameter monitoring and', 'control using digital twin', 'Digital Twin and Process Control', 'Water Monitoring and smart irrigation', 'system.', 'MicroController', 'ISA Newsletter Editor', 'ISA Bangalore Section', '02/2018 – Present', 'Paper On Process Parameter Monitoring', 'REV International Conference 2019'], 'company_names': None, 'no_of_pages': 1, 'total_experience': 0.0}\n",
      "{'name': 'Mahantesh.R', 'email': 'mahanteshr17@gmail.com', 'mobile_number': '8496060680', 'skills': ['Electronics', 'English', 'C', 'Python', 'System', 'Content', 'Algorithms', 'Analysis', 'Communication', 'Networking', 'Automation', 'Programming', 'C++', 'R'], 'college_name': None, 'degree': ['PECT’s PU College', 'MAHANTESH.R · RÉSUMÉ', '\\uf003'], 'designation': None, 'experience': None, 'company_names': None, 'no_of_pages': 1, 'total_experience': 0}\n",
      "{'name': 'Basic Information', 'email': None, 'mobile_number': None, 'skills': ['Electronics', 'Architecture', 'Circuits', 'Computer science', 'System', 'Communication', 'Design'], 'college_name': None, 'degree': None, 'designation': ['Senior Assistant Engineer', 'Graduate Engineer Trainee', 'Samsung India Electronics\\nPvt. Ltd.'], 'experience': None, 'company_names': None, 'no_of_pages': 1, 'total_experience': 0}\n",
      "{'name': 'JARAPALA KRISHNAKANTH', 'email': None, 'mobile_number': '020 2015', 'skills': ['Python', 'Pandas', 'Programming', 'Excel', 'Interactive', 'Analysis', 'Reports', 'Statistics', 'Css', 'Analytics', 'Prototype', 'C++', 'Research', 'System', 'Html', 'Sports', 'Logistics', 'Tableau', 'C', 'Experimental', 'Sci', 'Numpy', 'Operations', 'Design', 'Training'], 'college_name': None, 'degree': None, 'designation': None, 'experience': None, 'company_names': None, 'no_of_pages': 1, 'total_experience': 0}\n",
      "{'name': 'N A', 'email': None, 'mobile_number': '016-2020', 'skills': ['Electronics', 'English', 'C', 'Python', 'Photoshop', 'System', 'Windows', 'P', 'Matlab', 'Engineering', 'Bottle', 'Communication', 'International', 'Instrumentation', 'Process', 'Jupyter', 'Research', 'R'], 'college_name': None, 'degree': None, 'designation': None, 'experience': None, 'company_names': None, 'no_of_pages': 1, 'total_experience': 0}\n",
      "{'name': 'NAVEEN TATA', 'email': 'tatanaveen18@gmail.com', 'mobile_number': '7842106098', 'skills': ['Python', 'Coala', 'Email', 'Analytical', 'Django', 'Engineering', 'Css', 'Twitter', 'Keras', 'Research', 'System', 'Database', 'Java', 'Html', 'Electrical', 'C', 'Algorithms', 'Security', 'Word', 'Api', 'Distribution', 'Automation', 'Postgresql'], 'college_name': None, 'degree': None, 'designation': None, 'experience': ['Amrita Center for Wireless Network and Applications -', 'Intern', '(cid:17) June 2019 - Present', '• Research and development of Smart Grid Technology which', '‰ Amritapuri,India', 'consists of the electrical providers, a system of power delivery', 'and smart meters', '• Working with team on automation and distribution of power', 'by relaying information from consumers to transformers and', 'generation plants', '• By analyzing the time series data of power consumption form', 'each lane , my work is to predict the future consumption of', 'power by each lane and respond to periods of peak demand.', 'Council of Scientiﬁc and Industrial Research- Intern', '‰ Remote, India', '(cid:17) May-2019', '• Worked as a web scraper and contributed to collect, clean, and', 'organize a database of a few important representatives of India', 'under the guidance of Dr. Sukant Khurana, Scientist at CSIR-', 'CDR', 'Ben Gurion University - Summer School', '‰ BeerSheva, Israel', '(cid:17) July-2018', '• This Summer school is based on leveraging machine learning', 'solutions to Cybersecurity problems, headed by Dr. Nir Nis-', 'sam, head of the Malware Lab at the Cyber Security Research', 'Center at BGU.', '• Worked on analyzing target speciﬁc social media feeds to cre-', 'ate custom vocabularies for reﬁned spam classiﬁcation.', 'Coala - Open Source Contributor', '(cid:17) 2017 - PRESENT', '• Working as a contributor adding and ﬁxing the organization’s', '‰ Remote, India', 'main modules(coala-bears).'], 'company_names': None, 'no_of_pages': 1, 'total_experience': 0.0}\n",
      "{'name': 'NEHA RAJEEV', 'email': 'neharajeev98@gmail.com', 'mobile_number': '808 2211', 'skills': ['Electronics', 'Circuits', 'Python', 'Ai', 'Java', 'Mobile', 'Engineering', 'International', 'Testing', 'Programming', 'C++'], 'college_name': None, 'degree': None, 'designation': None, 'experience': None, 'company_names': None, 'no_of_pages': 1, 'total_experience': 0}\n",
      "{'name': 'Nikita Joshi', 'email': '1997nikitajoshi@gmail.com', 'mobile_number': '016-2020', 'skills': ['Mysql', 'C', 'Database', 'Technical', 'Android', 'Certification', 'Design', 'Sql', 'C++'], 'college_name': None, 'degree': ['B. Tech – Computer', 'C.B.S.E'], 'designation': None, 'experience': None, 'company_names': None, 'no_of_pages': 1, 'total_experience': 0}\n",
      "{'name': 'Ojaswani Dhaka', 'email': 'ojaswani.dhaka@ifimbschool.com', 'mobile_number': '9197175307', 'skills': ['International', 'Presentations', 'Analytical', 'Microsoft excel', 'Excel', 'Project planning', 'Orange', 'Presentation', 'Analysis', 'Writing', 'Finance', 'Engineering', 'Communication', 'Java', 'Negotiation', 'Tableau', 'Schedules', 'English', 'Algorithms', 'Security', 'Certification'], 'college_name': None, 'degree': None, 'designation': None, 'experience': [], 'company_names': None, 'no_of_pages': 2, 'total_experience': 0.0}\n"
     ]
    },
    {
     "name": "stdout",
     "output_type": "stream",
     "text": [
      "{'name': 'PRANAV J', 'email': 'pranavwerman@gmail.com', 'mobile_number': '8454048232', 'skills': ['Python', 'Technical', 'Email', 'Programming', 'Windows', 'Machine learning', 'Analysis', 'Engineering', 'Analytics', 'Consulting', 'C++', 'Database', 'Java', 'Mobile', 'Sql', 'Higher education', 'Linux', 'Data analytics', 'C', 'Analyze', 'Big data', 'Word', 'User experience'], 'college_name': None, 'degree': None, 'designation': None, 'experience': ['Technical Activities', 'GPA', 'CGPA', 'Electives', 'Internships'], 'company_names': None, 'no_of_pages': 2, 'total_experience': 0.0}\n",
      "{'name': 'Prashant Iyer', 'email': 'prashant.iyer98@gmail.com', 'mobile_number': '8136907485', 'skills': ['English', 'C', 'Computer science', 'System', 'Technical', 'Java', 'Interactive', 'Html', 'Coding', 'Writing', 'Networking', 'Assembly'], 'college_name': None, 'degree': ['B.Tech in Computer Science CGPA'], 'designation': None, 'experience': ['SSR - IMBIBING CODING CULTURE IN SCHOOLS', '2018 | Kochi', 'We introduced the students to basics of', 'competitive coding at the school level so that it', 'can help them in deciding if they actually are', 'interested in it.'], 'company_names': None, 'no_of_pages': 1, 'total_experience': 0.0}\n",
      "{'name': 'PRUTHVIRAJ P', 'email': 'pruthvirajnayaka32@gmail.com', 'mobile_number': '7349205108', 'skills': ['Electronics', 'Electrical', 'C', 'Python', 'English', 'System', 'P', 'Operating systems', 'Sql', 'Matlab', 'Sports', 'Programming', 'Scheduling'], 'college_name': None, 'degree': None, 'designation': None, 'experience': None, 'company_names': None, 'no_of_pages': 2, 'total_experience': 0}\n",
      "{'name': 'PURANJAI GARG', 'email': 'puranjaigarg783@gmail.com', 'mobile_number': '9599994061', 'skills': ['Python', 'Contracts', 'Technical', 'Operating systems', 'Email', 'Testing', 'Opencv', 'Programming', 'Windows', 'Machine learning', 'Analysis', 'Engineering', 'Communication', 'Analytics', 'Instrumentation', 'C++', 'Mobile', 'Tableau', 'English', 'Algorithms', 'Strategy', 'Certification', 'Training'], 'college_name': None, 'degree': None, 'designation': None, 'experience': None, 'company_names': None, 'no_of_pages': 2, 'total_experience': 0}\n",
      "{'name': 'BOPPA RAVALI', 'email': 'ravaliboppa@gmail.com', 'mobile_number': '8019844414', 'skills': ['C', 'Mysql', 'Database', 'Windows', 'System', 'Technical', 'Email', 'Html', 'Sql', 'Engineering', 'Mobile', 'Android', 'Programming', 'C++'], 'college_name': None, 'degree': ['B.Tech'], 'designation': None, 'experience': None, 'company_names': None, 'no_of_pages': 3, 'total_experience': 0}\n",
      "{'name': 'M.NAVYA SREE D.O.B:09', 'email': 'navyasreem.be20@uceou.edu', 'mobile_number': '8184968496', 'skills': ['Excel', 'C', 'Python', 'Supervising', 'Presentation', 'Technical', 'Email', 'Html', 'Security', 'Word', 'Powerpoint', 'Engineering', 'C++', 'Robot'], 'college_name': None, 'degree': None, 'designation': None, 'experience': None, 'company_names': None, 'no_of_pages': None, 'total_experience': 0}\n",
      "{'name': 'Pranav C', 'email': 'pranavckumar@outlook.com', 'mobile_number': None, 'skills': ['Electronics', 'C', 'Resource management', 'Email', 'Matlab', 'Analysis', 'Cloud', 'Finance', 'Engineering', 'Automation', 'Analytics', 'Health', 'International', 'Instrumentation', 'Design', 'Prospecting', 'C++'], 'college_name': None, 'degree': None, 'designation': ['Project Engineer'], 'experience': None, 'company_names': ['Honeywell Automation India Ltd.'], 'no_of_pages': 1, 'total_experience': 0}\n",
      "{'name': 'RISHIKA HANSARIA RISHIKA HANSARIA', 'email': 'rishikademow@gmail.com', 'mobile_number': '8971503270', 'skills': ['English', 'C', 'System', 'Technical', 'Matlab', 'Hardware', 'Engineering', 'Bottle', 'Certification', 'Photography', 'International', 'Relationship building', 'Programming', 'Process'], 'college_name': None, 'degree': ['B.'], 'designation': None, 'experience': None, 'company_names': None, 'no_of_pages': None, 'total_experience': 0}\n",
      "{'name': 'ROBIN SAXENA', 'email': 'robin.saxena@ifimbschool.com', 'mobile_number': '6396186275', 'skills': ['Financial statements', 'Technical', 'Email', 'Analytical', 'Operations management', 'Analysis', 'Finance', 'German', 'Startup', 'Analytics', 'C++', 'Editing', 'Negotiation', 'Pivot', 'Sports', 'Ibm', 'Queries', 'Tableau', 'English', 'Video', 'Android', 'Operations'], 'college_name': None, 'degree': ['BTech'], 'designation': None, 'experience': [], 'company_names': None, 'no_of_pages': 1, 'total_experience': 0.0}\n",
      "{'name': 'SAI TEJA', 'email': 'saiteja.kv@ifimbschool.com', 'mobile_number': '7935481', 'skills': ['Microsoft office', 'Content', 'Recruitment', 'International', 'Analytical', 'Orange', 'Presentation', 'Interactive', 'Sales', 'Machine learning', 'Marketing', 'Communication', 'Analytics', 'Hotel', 'Research', 'R', 'Pattern', 'Cloud', 'Twisted', 'English', 'Analyze', 'Word', 'Operations', 'Certification', 'Training', 'Flower'], 'college_name': None, 'degree': ['B. Tech –BMS Institute of Technology& Management'], 'designation': None, 'experience': [], 'company_names': None, 'no_of_pages': 1, 'total_experience': 0.0}\n",
      "{'name': 'IIT Kharagpur', 'email': None, 'mobile_number': '020 2018', 'skills': ['Architectures', 'Programming', 'Machine learning', 'Analysis', 'Engineering', 'C++', 'Teaching', 'Pytorch', 'Architecture', 'System', 'Broadcast', 'Nosql', 'Sql', 'Circuits', 'C', 'Servers', 'Coding', 'Numpy', 'Android', 'Operations', 'Design'], 'college_name': None, 'degree': ['INTERNSHIPS', 'MTech Thesis'], 'designation': None, 'experience': None, 'company_names': None, 'no_of_pages': 1, 'total_experience': 0}\n",
      "{'name': 'Government Polytechnic', 'email': '/shivam.dumka1@gmail.com', 'mobile_number': '7500373468', 'skills': ['Electronics', 'Electrical', 'Java', 'Technical', 'Engineering', 'International', 'Training', 'Technical skills'], 'college_name': None, 'degree': ['B. Tech'], 'designation': None, 'experience': None, 'company_names': None, 'no_of_pages': None, 'total_experience': 0}\n",
      "{'name': 'PEJATHAYA OM', 'email': 'shreyapp.tc16@rvce.edu.in', 'mobile_number': '8660817017', 'skills': ['English', 'C', 'System', 'P', 'Technical', 'Matlab', 'Engineering', 'Mobile', 'Audio', 'Programming'], 'college_name': None, 'degree': None, 'designation': None, 'experience': None, 'company_names': None, 'no_of_pages': 2, 'total_experience': 0}\n",
      "{'name': 'SHYAMALA AA', 'email': 'shamuaswath3098@gmail.com', 'mobile_number': '7975286375', 'skills': ['Python', 'Matlab', 'Testing', 'Health', 'Programming', 'Electronics', 'Excel', 'Engineering', 'Communication', 'Teaching', 'R', 'System', 'Math', 'Mobile', 'Biology', 'English', 'C', 'Algorithms', 'Word', 'Design', 'Training'], 'college_name': None, 'degree': ['B.E. in Telecommunication Engineering|Present| R.V.College of Engineering'], 'designation': None, 'experience': None, 'company_names': None, 'no_of_pages': 3, 'total_experience': 0}\n",
      "{'name': 'VARUKOLU SPANDANA', 'email': 'varukoluspandana@gmail.com', 'mobile_number': '7386451813', 'skills': ['Computer science', 'Technical', 'Operating systems', 'Email', 'Programming', 'Php', 'Javascript', 'Windows', 'Presentation', 'Html5', 'Engineering', 'Css', 'Communication', 'Consulting', 'C++', 'Database', 'System', 'Java', 'Html', 'Mobile', 'Sql', 'Process', 'Linux', 'C', 'Mysql', 'Training'], 'college_name': None, 'degree': None, 'designation': None, 'experience': None, 'company_names': None, 'no_of_pages': 2, 'total_experience': 0}\n",
      "{'name': 'MERUGU SPOORTHI', 'email': 'Email:meruguspoorthy@gmail.com', 'mobile_number': '9248584044', 'skills': ['Excel', 'English', 'System', 'Matlab', 'Security', 'Word', 'Engineering', 'Mobile', 'Sports', 'Improvement', 'Communication', 'Health', 'Robot'], 'college_name': None, 'degree': None, 'designation': None, 'experience': None, 'company_names': None, 'no_of_pages': None, 'total_experience': 0}\n",
      "{'name': 'Subhankar Baishya', 'email': 'subhankarb2909@gm', 'mobile_number': '0834387967', 'skills': ['English', 'Python', 'Segmentation', 'Finance', 'Analysis', 'Marketing', 'Word', 'Hadoop', 'International', 'Analytics', 'Financial analysis', 'Consulting', 'Powerpoint', 'Tableau', 'Research', 'R'], 'college_name': None, 'degree': None, 'designation': None, 'experience': None, 'company_names': None, 'no_of_pages': 2, 'total_experience': 0}\n"
     ]
    },
    {
     "name": "stdout",
     "output_type": "stream",
     "text": [
      "{'name': None, 'email': None, 'mobile_number': None, 'skills': [], 'college_name': None, 'degree': None, 'designation': None, 'experience': None, 'company_names': None, 'no_of_pages': 2, 'total_experience': 0}\n",
      "{'name': 'TARUN VASHISHTH', 'email': '(+91)8077652403/tarunvashishth98@gmail.com', 'mobile_number': '8077652403', 'skills': ['Electronics', 'Technical', 'Training', 'Java'], 'college_name': None, 'degree': ['B.Tech'], 'designation': None, 'experience': None, 'company_names': None, 'no_of_pages': 1, 'total_experience': 0}\n",
      "{'name': 'THIMMAPOOR ASHOK S', 'email': 'ashok286281@gmail.com', 'mobile_number': '8801069539', 'skills': ['Electronics', 'C', 'Scripting', 'Technical', 'Email', 'Engineering', 'Perl', 'Communication', 'Design', 'International', 'Programming'], 'college_name': None, 'degree': None, 'designation': ['Software Engineer', 'Signalling Engineer'], 'experience': [], 'company_names': ['AM signaling Pvt Ltd.', 'Techmahindra Pvt Ltd.'], 'no_of_pages': None, 'total_experience': 0.0}\n",
      "{'name': 'SREE VIHAS', 'email': 'vihasreddy2099@gmail.com', 'mobile_number': '9652292821', 'skills': ['Python', 'Technical', 'Routing', 'Programming', 'Xml', 'Css', 'C++', 'Technical skills', 'Database', 'Scripting', 'Java', 'Html', 'Nosql', 'Sql', 'Swift', 'English', 'C', 'Algorithms', 'Cisco', 'Android', 'Training'], 'college_name': None, 'degree': None, 'designation': None, 'experience': None, 'company_names': None, 'no_of_pages': 2, 'total_experience': 0}\n"
     ]
    }
   ],
   "source": [
    "resume_data = []\n",
    "for file in resume_files:\n",
    "    data = ResumeParser(file).get_extracted_data()\n",
    "    #resume_data.append(data)"
   ]
  },
  {
   "cell_type": "code",
   "execution_count": 5,
   "metadata": {},
   "outputs": [
    {
     "name": "stdout",
     "output_type": "stream",
     "text": [
      "[{'name': 'ELECTRICAL ENGINEER', 'email': 'email@gmail.com', 'mobile_number': None, 'skills': ['Specifications', 'Python', 'Content', 'Technical', 'Matlab', 'Lighting', 'Visual', 'Supervisor', 'Reports', 'Engineering', 'Communication', 'Consulting', 'C++', 'Technical skills', 'Assembly', 'R', 'Cms', 'Budgeting', 'Documentation', 'Repairs', 'Electrical', 'C', 'Distribution', 'Operations', 'Design'], 'college_name': None, 'degree': ['B.S. ELECTRICAL', 'ELECTRICAL IMPROVER/SUPERVISOR  TQL Group, New Orleans'], 'designation': ['Electrical Engineer'], 'experience': None, 'company_names': None, 'no_of_pages': None, 'total_experience': 0}, {'name': 'RAM KUMAR', 'email': 'shri.babuji@shriresume.com', 'mobile_number': '0000000000', 'skills': ['Excel', 'English', 'Administration', 'Sales', 'Marketing', 'Word', 'Engineering'], 'college_name': None, 'degree': ['Bachelor, Technology \\nDeccan College of Engineering & Technology'], 'designation': ['Team Leader', 'Sales Assistant', 'Sales Manager', 'Marketing and Sales Professional'], 'experience': ['•', '•', 'April 2014 – Current', 'Sales Manager', 'Solvent Solutions Pvt Ltd', 'Kolkata, West Bangal', 'October 2011 – March 2014', 'Team Leader', 'Serena Global Pvt Ltd', 'Gurgaon, Delhi-NCR', 'August 2009 – October 2011', 'Sales Assistant', 'Tamcoj Technologies', 'Pimpri-Pune, Maharashtra', 'Lorem ipsum dolor sit amet, consectetuer adipiscing elit. Aenean commodo ligula eget dolor. Aenean massa. Cum', 'sociis natoque penatibus et magnis dis parturient montes, nascetur ridiculus mus. Donec quam felis, ultricies Lorem', 'ipsum dolor sit amet, consectetuer adipiscing elit. Aenean commodo ligula eget dolor. Aenean massa. Cum sociis', 'natoque penatibus et magnis dis parturient montes, nascetur ridiculus mus.', '•', '•', '•', '•', 'Lorem ipsum dolor sit amet, consectetuer adipiscing elit lorem ipsum dolor sit.', 'Lorem ipsum dolor sit amet, consectetuer adipiscing elit lorem ipsum dolor sit.', 'Lorem ipsum dolor sit amet, consectetuer adipiscing elit lorem ipsum dolor sit.', 'Lorem ipsum dolor sit amet, consectetuer adipiscing elit lorem ipsum dolor sit.', 'Lorem ipsum dolor sit amet, consectetuer adipiscing elit. Aenean commodo ligula eget dolor. Aenean massa. Cum', 'sociis natoque penatibus et magnis dis parturient montes, nascetur ridiculus mus. Donec quam felis, ultricies Lorem', 'ipsum dolor sit amet, consectetuer adipiscing elit. Aenean commodo ligula eget dolor. Aenean massa. Cum sociis', 'natoque penatibus et magnis dis parturient montes, nascetur ridiculus mus.', '•', '•', '•', '•', 'Lorem ipsum dolor sit amet, consectetuer adipiscing elit lorem ipsum dolor sit.', 'Lorem ipsum dolor sit amet, consectetuer adipiscing elit lorem ipsum dolor sit.', 'Lorem ipsum dolor sit amet, consectetuer adipiscing elit lorem ipsum dolor sit.', 'Lorem ipsum dolor sit amet, consectetuer adipiscing elit lorem ipsum dolor sit.', 'Lorem ipsum dolor sit amet, consectetuer adipiscing elit. Aenean commodo ligula eget dolor. Aenean massa. Cum', 'sociis natoque penatibus et magnis dis parturient montes, nascetur ridiculus mus. Donec quam felis, ultricies Lorem', 'ipsum dolor sit amet, consectetuer adipiscing elit. Aenean commodo ligula eget dolor. Aenean massa. Cum sociis', 'natoque penatibus et magnis dis parturient montes, nascetur ridiculus mus.', '•', '•', '•', 'Lorem ipsum dolor sit amet, consectetuer adipiscing elit lorem ipsum dolor sit.', 'Lorem ipsum dolor sit amet, consectetuer adipiscing elit lorem ipsum dolor sit.', 'Lorem ipsum dolor sit amet, consectetuer adipiscing elit lorem ipsum dolor sit.', 'Computer Proficiency', 'Languages', '•  Word 2010', '•  Excel 2010', '•  Power Point 2010', '•  Hindi', '•  English', 'Lorem ipsum dolor sit amet', 'Lorem ipsum dolor', 'Lorem ipsum dolor sit'], 'company_names': ['Serena Global Pvt Ltd', 'Solvent Solutions Pvt Ltd', 'Tamcoj Technologies', 'Pimpri'], 'no_of_pages': 3, 'total_experience': 4.58}]\n"
     ]
    }
   ],
   "source": []
  },
  {
   "cell_type": "code",
   "execution_count": 6,
   "metadata": {},
   "outputs": [
    {
     "name": "stdout",
     "output_type": "stream",
     "text": [
      "Enter the number of resumes required : 4\n"
     ]
    }
   ],
   "source": [
    "no_resume_req = input(\"Enter the number of resumes required : \")"
   ]
  },
  {
   "cell_type": "code",
   "execution_count": 35,
   "metadata": {},
   "outputs": [
    {
     "name": "stdout",
     "output_type": "stream",
     "text": [
      "Enter Requirements : \n",
      "Python\n",
      "C\n",
      "C++\n",
      "Java\n",
      "quit\n"
     ]
    }
   ],
   "source": [
    "user_requirements = []\n",
    "requirement = None\n",
    "print('Enter Requirements : ')\n",
    "while requirement != 'quit':\n",
    "    requirement = input()\n",
    "    user_requirements.append(requirement)"
   ]
  },
  {
   "cell_type": "code",
   "execution_count": null,
   "metadata": {},
   "outputs": [],
   "source": [
    "def get_n_resume(n,req):\n",
    "    "
   ]
  },
  {
   "cell_type": "code",
   "execution_count": null,
   "metadata": {},
   "outputs": [],
   "source": []
  },
  {
   "cell_type": "code",
   "execution_count": null,
   "metadata": {},
   "outputs": [],
   "source": []
  }
 ],
 "metadata": {
  "kernelspec": {
   "display_name": "Python 3",
   "language": "python",
   "name": "python3"
  },
  "language_info": {
   "codemirror_mode": {
    "name": "ipython",
    "version": 3
   },
   "file_extension": ".py",
   "mimetype": "text/x-python",
   "name": "python",
   "nbconvert_exporter": "python",
   "pygments_lexer": "ipython3",
   "version": "3.7.6"
  }
 },
 "nbformat": 4,
 "nbformat_minor": 2
}
